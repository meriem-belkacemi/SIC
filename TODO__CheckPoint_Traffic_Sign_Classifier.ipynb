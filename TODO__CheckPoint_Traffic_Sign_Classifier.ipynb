{
  "nbformat": 4,
  "nbformat_minor": 0,
  "metadata": {
    "accelerator": "GPU",
    "colab": {
      "name": "TODO_ CheckPoint_Traffic_Sign_Classifier.ipynb",
      "provenance": [],
      "collapsed_sections": [],
      "include_colab_link": true
    },
    "kernelspec": {
      "display_name": "Python 3",
      "name": "python3"
    }
  },
  "cells": [
    {
      "cell_type": "markdown",
      "metadata": {
        "id": "view-in-github",
        "colab_type": "text"
      },
      "source": [
        "<a href=\"https://colab.research.google.com/github/meriem-belkacemi/SIC/blob/master/TODO__CheckPoint_Traffic_Sign_Classifier.ipynb\" target=\"_parent\"><img src=\"https://colab.research.google.com/assets/colab-badge.svg\" alt=\"Open In Colab\"/></a>"
      ]
    },
    {
      "cell_type": "markdown",
      "metadata": {
        "id": "kePCk9wm7Od0"
      },
      "source": [
        "# Self-Driving Car Engineer Nanodegree\n",
        "\n",
        "## Deep Learning\n",
        "\n",
        "## Project: Build a Traffic Sign Recognition Classifier\n",
        "\n",
        "In this notebook, a template is provided for you to implement your functionality in stages, which is required to successfully complete this project. If additional code is required that cannot be included in the notebook, be sure that the Python code is successfully imported and included in your submission if necessary. \n",
        "\n",
        "> **Note**: Once you have completed all of the code implementations, you need to finalize your work by exporting the iPython Notebook as a Jupyter notebook document. Before exporting the notebook to ipynb, all of the code cells need to have been run so that reviewers can see the final implementation and output. You can then export the notebook by using the menu above and navigating to  \\n\",\n",
        "    \"**File -> Download as -> Notebook (.ipynb)**. Include the finished document along with this notebook as your submission. \n",
        "\n",
        "\n",
        ">**Note:** Code and Markdown cells can be executed using the **Shift + Enter** keyboard shortcut. In addition, Markdown cells can be edited by typically double-clicking the cell to enter edit mode."
      ]
    },
    {
      "cell_type": "code",
      "metadata": {
        "id": "EDy02x5C4sKi"
      },
      "source": [
        "from __future__ import absolute_import, division, print_function\n",
        "from keras.layers import Input, Lambda, Dense, Flatten, Dropout, GlobalAveragePooling2D, Conv2D, AveragePooling2D, MaxPooling2D, Dropout, GlobalMaxPooling2D, GlobalAveragePooling2D\n",
        "from keras.models import Sequential\n",
        "from tensorflow.keras.applications import ResNet50\n",
        "\n",
        "import tensorflow as tf\n",
        "# import tensorflow.contrib.eager as tfe\n",
        "import numpy as np\n",
        "import matplotlib.pyplot as plt\n",
        "from IPython import display\n",
        "%matplotlib inline\n",
        "from tensorflow import keras\n",
        "# try:\n",
        "#   tf.enable_eager_execution()\n",
        "#   print('Running in Eager mode.')\n",
        "# except ValueError:\n",
        "#   print('Already running in Eager mode')\n",
        "\n",
        "from __future__ import print_function, division\n",
        "from builtins import range, input\n",
        "from keras.models import Model\n",
        "from keras.applications.vgg16 import VGG16\n",
        "from tensorflow.keras.applications import VGG19\n",
        "from tensorflow.keras.applications import inception_v3\n",
        "from keras.applications.inception_v3 import InceptionV3\n",
        "from keras.applications.vgg16 import preprocess_input\n",
        "from keras.preprocessing import image\n",
        "from keras.preprocessing.image import ImageDataGenerator\n",
        "from keras.utils.vis_utils import plot_model\n",
        "#from tensorflow.contrib.layers import flatten\n",
        "from sklearn.metrics import confusion_matrix\n",
        "import numpy as np\n",
        "import matplotlib.pyplot as plt\n",
        "from time import time\n",
        "import pickle\n",
        "from sklearn.utils import shuffle\n",
        "import pandas as pd\n",
        "# Feel free to import more packages"
      ],
      "execution_count": 1,
      "outputs": []
    },
    {
      "cell_type": "markdown",
      "metadata": {
        "id": "rBdMSz5v7Od4"
      },
      "source": [
        "---\n",
        "## Step 0: Load The Data"
      ]
    },
    {
      "cell_type": "code",
      "metadata": {
        "colab": {
          "base_uri": "https://localhost:8080/",
          "height": 229
        },
        "id": "bqHf6o1s7Od7",
        "outputId": "61973c7d-c508-4a8e-dd16-950db626f8fe"
      },
      "source": [
        "# Load pickled data\n",
        "\n",
        "# TODO: Fill this in based on where you saved the training and testing data\n",
        "# If you have a folder in your Drive named traffic-signs-data you do so, else change directory\n",
        "\n",
        "training_file = '/content/train.p'\n",
        "validation_file= '/content/valid.p'\n",
        "testing_file = '/content/test.p'\n",
        "\n",
        "with open(training_file, mode='rb') as f:\n",
        "    train = pickle.load(f)\n",
        "with open(validation_file, mode='rb') as f:\n",
        "    valid = pickle.load(f)\n",
        "with open(testing_file, mode='rb') as f:\n",
        "    test = pickle.load(f)\n",
        "\n"
      ],
      "execution_count": 2,
      "outputs": [
        {
          "output_type": "error",
          "ename": "UnpicklingError",
          "evalue": "ignored",
          "traceback": [
            "\u001b[0;31m---------------------------------------------------------------------------\u001b[0m",
            "\u001b[0;31mUnpicklingError\u001b[0m                           Traceback (most recent call last)",
            "\u001b[0;32m<ipython-input-2-8d7256cd0b70>\u001b[0m in \u001b[0;36m<module>\u001b[0;34m()\u001b[0m\n\u001b[1;32m      9\u001b[0m \u001b[0;34m\u001b[0m\u001b[0m\n\u001b[1;32m     10\u001b[0m \u001b[0;32mwith\u001b[0m \u001b[0mopen\u001b[0m\u001b[0;34m(\u001b[0m\u001b[0mtraining_file\u001b[0m\u001b[0;34m,\u001b[0m \u001b[0mmode\u001b[0m\u001b[0;34m=\u001b[0m\u001b[0;34m'rb'\u001b[0m\u001b[0;34m)\u001b[0m \u001b[0;32mas\u001b[0m \u001b[0mf\u001b[0m\u001b[0;34m:\u001b[0m\u001b[0;34m\u001b[0m\u001b[0;34m\u001b[0m\u001b[0m\n\u001b[0;32m---> 11\u001b[0;31m     \u001b[0mtrain\u001b[0m \u001b[0;34m=\u001b[0m \u001b[0mpickle\u001b[0m\u001b[0;34m.\u001b[0m\u001b[0mload\u001b[0m\u001b[0;34m(\u001b[0m\u001b[0mf\u001b[0m\u001b[0;34m)\u001b[0m\u001b[0;34m\u001b[0m\u001b[0;34m\u001b[0m\u001b[0m\n\u001b[0m\u001b[1;32m     12\u001b[0m \u001b[0;32mwith\u001b[0m \u001b[0mopen\u001b[0m\u001b[0;34m(\u001b[0m\u001b[0mvalidation_file\u001b[0m\u001b[0;34m,\u001b[0m \u001b[0mmode\u001b[0m\u001b[0;34m=\u001b[0m\u001b[0;34m'rb'\u001b[0m\u001b[0;34m)\u001b[0m \u001b[0;32mas\u001b[0m \u001b[0mf\u001b[0m\u001b[0;34m:\u001b[0m\u001b[0;34m\u001b[0m\u001b[0;34m\u001b[0m\u001b[0m\n\u001b[1;32m     13\u001b[0m     \u001b[0mvalid\u001b[0m \u001b[0;34m=\u001b[0m \u001b[0mpickle\u001b[0m\u001b[0;34m.\u001b[0m\u001b[0mload\u001b[0m\u001b[0;34m(\u001b[0m\u001b[0mf\u001b[0m\u001b[0;34m)\u001b[0m\u001b[0;34m\u001b[0m\u001b[0;34m\u001b[0m\u001b[0m\n",
            "\u001b[0;31mUnpicklingError\u001b[0m: pickle data was truncated"
          ]
        }
      ]
    },
    {
      "cell_type": "markdown",
      "metadata": {
        "id": "Ij3v5GjH7OeJ"
      },
      "source": [
        "---\n",
        "\n",
        "## Step 1: Dataset Summary & Exploration\n",
        "\n",
        "The pickled data is a dictionary with 4 key/value pairs:\n",
        "\n",
        "- `'features'` is a 4D array containing raw pixel data of the traffic sign images, (num examples, width, height, channels).\n",
        "- `'labels'` is a 1D array containing the label/class id of the traffic sign. The file `signnames.csv` contains id -> name mappings for each id.\n",
        "- `'sizes'` is a list containing tuples, (width, height) representing the original width and height the image.\n",
        "- `'coords'` is a list containing tuples, (x1, y1, x2, y2) representing coordinates of a bounding box around the sign in the image. **THESE COORDINATES ASSUME THE ORIGINAL IMAGE. THE PICKLED DATA CONTAINS RESIZED VERSIONS (32 by 32) OF THESE IMAGES**\n",
        "\n",
        "Complete the basic data summary below. Use python, numpy and/or pandas methods to calculate the data summary rather than hard coding the results. For example, the [pandas shape method](http://pandas.pydata.org/pandas-docs/stable/generated/pandas.DataFrame.shape.html) might be useful for calculating some of the summary results. "
      ]
    },
    {
      "cell_type": "code",
      "metadata": {
        "id": "Ck0FEVOeh7UF"
      },
      "source": [
        "# Please complete None with your code\n",
        "#-------------------------------------------------------------------------\n",
        "signs = []\n",
        "signnames = pd.read_csv('./signnames.csv', delimiter=',', header=0)\n",
        "for row in range(signnames.shape[0]):\n",
        "     signs.append(signnames.iloc[row, 1])    \n",
        "    \n",
        "X_train, y_train = train['features'], train['labels']\n",
        "X_valid, y_valid = valid['features'], valid['labels']\n",
        "X_test, y_test = test['features'], test['labels']"
      ],
      "execution_count": null,
      "outputs": []
    },
    {
      "cell_type": "markdown",
      "metadata": {
        "id": "i_nOZWyZ7OeN"
      },
      "source": [
        "### Provide a Basic Summary of the Data Set Using Python, Numpy and/or Pandas"
      ]
    },
    {
      "cell_type": "code",
      "metadata": {
        "id": "ccjdHQ2S7OeQ"
      },
      "source": [
        "# Please complete None with your code\n",
        "#-------------------------------------------------------------------------\n",
        "#  Number of training examples\n",
        "n_train = X_train.shape[0]\n",
        "\n",
        "# Number of validation examples\n",
        "n_validation = X_valid.shape[0]\n",
        "\n",
        "# Number of test examples.\n",
        "n_test = X_test.shape[0]\n",
        "\n",
        "#  What's the shape of a traffic sign image?\n",
        "image_shape = X_test[0].shape\n",
        "\n",
        "#  How many unique classes/labels there are in the dataset.\n",
        "n_classes = len(np.unique(y_train))\n",
        "\n",
        "\n",
        "print(\"Number of training examples =\", n_train)\n",
        "print(\"Number of testing examples =\", n_test)\n",
        "print(\"Number of valid examples =\", n_validation)\n",
        "print(\"Image data shape =\", image_shape)\n",
        "print(\"Number of classes =\", n_classes)\n"
      ],
      "execution_count": null,
      "outputs": []
    },
    {
      "cell_type": "code",
      "metadata": {
        "id": "DmBsZ_fB53Ri"
      },
      "source": [
        "y_train\n",
        "pd.get_dummies(y_train)"
      ],
      "execution_count": null,
      "outputs": []
    },
    {
      "cell_type": "code",
      "metadata": {
        "id": "6gyAs3aFQzpL"
      },
      "source": [
        "# In this part you should One-hot encode all Y-s vectors using\n",
        "y_train_hotEnc = pd.get_dummies(y_train)\n",
        "y_valid_hotEnc = pd.get_dummies(y_valid)\n",
        "y_test_hotEnc = pd.get_dummies(y_test)"
      ],
      "execution_count": null,
      "outputs": []
    },
    {
      "cell_type": "markdown",
      "metadata": {
        "id": "cwwhO0iK7OeZ"
      },
      "source": [
        "### Include an exploratory visualization of the dataset"
      ]
    },
    {
      "cell_type": "markdown",
      "metadata": {
        "id": "IQ-AJvRB7Oea"
      },
      "source": [
        "Visualize the German Traffic Signs Dataset using the pickled file(s). This is open ended, suggestions include: plotting traffic sign images, plotting the count of each sign, etc. \n",
        "\n",
        "The [Matplotlib](http://matplotlib.org/) [examples](http://matplotlib.org/examples/index.html) and [gallery](http://matplotlib.org/gallery.html) pages are a great resource for doing visualizations in Python.\n",
        "\n",
        "**NOTE:** It's recommended you start with something simple first. If you wish to do more, come back to it after you've completed the rest of the sections. It can be interesting to look at the distribution of classes in the training, validation and test set. Is the distribution the same? Are there more examples of some classes than others?"
      ]
    },
    {
      "cell_type": "code",
      "metadata": {
        "id": "jCoben3A7Oed"
      },
      "source": [
        "### Data exploration visualization code goes here.\n",
        "import matplotlib.pyplot as plt\n",
        "import random\n",
        "# Visualizations will be shown in the notebook.\n",
        "%matplotlib inline\n",
        "def show_images(X,Y,r,c):\n",
        "  fig, axs = plt.subplots(r,c, figsize=(15, 6))\n",
        "  fig.subplots_adjust(hspace = .2, wspace=.001)\n",
        "  axs = axs.ravel()\n",
        "  for i in range(rows*columns): # if rows = 2 and columns = 5 i should take 10 values\n",
        "      index = random.randint(0, len(X))\n",
        "      image = X[index]\n",
        "      axs[i].axis('off')\n",
        "      axs[i].imshow(image)\n",
        "      axs[i].set_title(Y[index])\n",
        "  plt.show()    \n",
        "\n",
        "# show image of 10 random data points\n",
        "rows = 2\n",
        "columns = 5\n",
        "show_images (X_train ,y_train,rows , columns)"
      ],
      "execution_count": null,
      "outputs": []
    },
    {
      "cell_type": "code",
      "metadata": {
        "id": "9DH01N4v70Ij"
      },
      "source": [
        "plt.figure(figsize=(20,5))\n",
        "item, count = np.unique(y_train, return_counts=True)\n",
        "#names is a list of traffic signs, Remember that we already have a list : signs\n",
        "names = signs\n",
        "y_pos = np.arange(len(names))\n",
        "plt.bar(item, count, alpha=0.6, color = (0.3,0.9,0.4,0.6) )\n",
        "\n",
        "plt.xticks(y_pos, names, fontsize=15, rotation=90)\n",
        "\n",
        "plt.show()"
      ],
      "execution_count": null,
      "outputs": []
    },
    {
      "cell_type": "code",
      "metadata": {
        "id": "Op7wF01x63Yw"
      },
      "source": [
        "plt.figure(figsize=(20,5))\n",
        "item, count = np.unique(y_test, return_counts=True)\n",
        "item1, count1 = np.unique(y_valid, return_counts=True)\n",
        "\n",
        "names = signs\n",
        "\n",
        "\n",
        "y_pos = np.arange(len(names))\n",
        "plt.bar(item, count, alpha=0.6, color = (0.3,0.5,0.4,0.2), label=\"Validation Data\" )\n",
        "\n",
        "plt.bar(item1, count1, alpha=0.6, color = (0.9,0.1,0.3,0.2), label=\"Train Data\" )\n",
        "\n",
        "plt.xticks(y_pos, names, fontsize=15, rotation=90)\n",
        "plt.legend()\n",
        "plt.show()"
      ],
      "execution_count": null,
      "outputs": []
    },
    {
      "cell_type": "markdown",
      "metadata": {
        "id": "p4FWRG-D7Oen"
      },
      "source": [
        "----\n",
        "\n",
        "## Step 2: Design and Test a Model Architecture\n",
        "\n",
        "Design and implement a deep learning model that learns to recognize traffic signs. Train and test your model on the [German Traffic Sign Dataset](http://benchmark.ini.rub.de/?section=gtsrb&subsection=dataset).\n",
        "\n",
        "The LeNet-5 implementation shown in the [classroom](https://classroom.udacity.com/nanodegrees/nd013/parts/fbf77062-5703-404e-b60c-95b78b2f3f9e/modules/6df7ae49-c61c-4bb2-a23e-6527e69209ec/lessons/601ae704-1035-4287-8b11-e2c2716217ad/concepts/d4aca031-508f-4e0b-b493-e7b706120f81) at the end of the CNN lesson is a solid starting point. You'll have to change the number of classes and possibly the preprocessing, but aside from that it's plug and play! \n",
        "\n",
        "With the LeNet-5 solution from the lecture, you should expect a validation set accuracy of about 0.89. To meet specifications, the validation set accuracy will need to be at least 0.93. It is possible to get an even higher accuracy, but 0.93 is the minimum for a successful project submission. \n",
        "\n",
        "There are various aspects to consider when thinking about this problem:\n",
        "\n",
        "- Neural network architecture (is the network over or underfitting?)\n",
        "- Play around preprocessing techniques (normalization, rgb to grayscale, etc)\n",
        "- Number of examples per label (some have more than others).\n",
        "- Generate fake data.\n",
        "\n",
        "Here is an example of a [published baseline model on this problem](http://yann.lecun.com/exdb/publis/pdf/sermanet-ijcnn-11.pdf). It's not required to be familiar with the approach used in the paper but, it's good practice to try to read papers like these."
      ]
    },
    {
      "cell_type": "markdown",
      "metadata": {
        "id": "aTQywv5W7Oeq"
      },
      "source": [
        "### Pre-process the Data Set (normalization, grayscale, etc.)"
      ]
    },
    {
      "cell_type": "markdown",
      "metadata": {
        "id": "ieEpzKmI7Oet"
      },
      "source": [
        "Minimally, the image data should be normalized so that the data has mean zero and equal variance. For image data, `(pixel - 128)/ 128` is a quick way to approximately normalize the data and can be used in this project. \n",
        "\n",
        "Other pre-processing steps are optional. You can try different techniques to see if it improves performance. \n",
        "\n",
        "Use the code cell (or multiple code cells, if necessary) to implement the first step of your project."
      ]
    },
    {
      "cell_type": "code",
      "metadata": {
        "id": "-mwnppO9Ksb1"
      },
      "source": [
        "# gray scale\n",
        "X_test_gry = np.sum(X_test/3, axis=3, keepdims=True)\n",
        "X_train_gry = np.sum(X_train/3, axis=3, keepdims=True)\n",
        "X_valid_gry = np.sum(X_valid/3, axis=3, keepdims=True)"
      ],
      "execution_count": null,
      "outputs": []
    },
    {
      "cell_type": "code",
      "metadata": {
        "id": "NELktNMHrz04"
      },
      "source": [
        "# normalization Here \n",
        "X_test_gry_norm = X_test_gry / 255\n",
        "X_train_gry_norm = X_train_gry / 255\n",
        "X_valid_gry_norm = X_valid_gry / 255"
      ],
      "execution_count": null,
      "outputs": []
    },
    {
      "cell_type": "code",
      "metadata": {
        "id": "1dQjUf69sk8m"
      },
      "source": [
        "# Shuffle your data here\n",
        "import matplotlib.pyplot as plt\n",
        "import random\n",
        "%matplotlib inline\n",
        "\n",
        "\n",
        "def show_images(X, Y, r, c):\n",
        "  fig, axs = plt.subplots(r, c, figsize=(15, 6))\n",
        "  fig.subplots_adjust(hspace=.2, wspace=.001)\n",
        "  axs = axs.ravel()\n",
        "  for i in range(rows*columns):  # if rows = 2 and columns = 5 i should take 10 values\n",
        "      index = random.randint(0, len(X))\n",
        "      image = X[index]\n",
        "      axs[i].axis('off')\n",
        "      axs[i].imshow(image)\n",
        "      axs[i].set_title(Y[index])\n",
        "  plt.show()\n",
        "\n",
        "\n",
        "# show image of 10 random data points\n",
        "rows = 2\n",
        "columns = 5\n",
        "show_images(X_train_gry, y_train, rows, columns)"
      ],
      "execution_count": null,
      "outputs": []
    },
    {
      "cell_type": "code",
      "metadata": {
        "id": "aDfly3IbM5E9"
      },
      "source": [
        "import cv2\n",
        "\n",
        "def random_translate(img):\n",
        "    rows,cols,_ = img.shape\n",
        "    \n",
        "    # allow translation up to px pixels in x and y directions\n",
        "    px = 2\n",
        "    dx,dy = np.random.randint(-px,px,2)\n",
        "\n",
        "    M = np.float32([[1,0,dx],[0,1,dy]])\n",
        "    dst = cv2.warpAffine(img,M,(cols,rows))\n",
        "    \n",
        "    dst = dst[:,:,np.newaxis]\n",
        "    \n",
        "    return dst"
      ],
      "execution_count": null,
      "outputs": []
    },
    {
      "cell_type": "markdown",
      "metadata": {
        "id": "L-0wUUvrnACZ"
      },
      "source": [
        "Next cells should be useful for data augmentation"
      ]
    },
    {
      "cell_type": "code",
      "metadata": {
        "id": "sb49D3FJM8tT"
      },
      "source": [
        "def random_scaling(img):   \n",
        "    rows,cols,_ = img.shape\n",
        "\n",
        "    # transform limits\n",
        "    px = np.random.randint(-2,2)\n",
        "\n",
        "    # ending locations\n",
        "    pts1 = np.float32([[px,px],[rows-px,px],[px,cols-px],[rows-px,cols-px]])\n",
        "\n",
        "    # starting locations (4 corners)\n",
        "    pts2 = np.float32([[0,0],[rows,0],[0,cols],[rows,cols]])\n",
        "\n",
        "    M = cv2.getPerspectiveTransform(pts1,pts2)\n",
        "\n",
        "    dst = cv2.warpPerspective(img,M,(rows,cols))\n",
        "    \n",
        "    dst = dst[:,:,np.newaxis]\n",
        "    \n",
        "    return dst"
      ],
      "execution_count": null,
      "outputs": []
    },
    {
      "cell_type": "code",
      "metadata": {
        "id": "ww_AHtDaM99w"
      },
      "source": [
        "def random_warp(img):\n",
        "    \n",
        "    rows,cols,_ = img.shape\n",
        "\n",
        "    # random scaling coefficients\n",
        "    rndx = np.random.rand(3) - 0.5\n",
        "    rndx *= cols * 0.06   # this coefficient determines the degree of warping\n",
        "    rndy = np.random.rand(3) - 0.5\n",
        "    rndy *= rows * 0.06\n",
        "\n",
        "    # 3 starting points for transform, 1/4 way from edges\n",
        "    x1 = cols/4\n",
        "    x2 = 3*cols/4\n",
        "    y1 = rows/4\n",
        "    y2 = 3*rows/4\n",
        "\n",
        "    pts1 = np.float32([[y1,x1],\n",
        "                       [y2,x1],\n",
        "                       [y1,x2]])\n",
        "    pts2 = np.float32([[y1+rndy[0],x1+rndx[0]],\n",
        "                       [y2+rndy[1],x1+rndx[1]],\n",
        "                       [y1+rndy[2],x2+rndx[2]]])\n",
        "\n",
        "    M = cv2.getAffineTransform(pts1,pts2)\n",
        "\n",
        "    dst = cv2.warpAffine(img,M,(cols,rows))\n",
        "    \n",
        "    dst = dst[:,:,np.newaxis]\n",
        "    \n",
        "    return dst"
      ],
      "execution_count": null,
      "outputs": []
    },
    {
      "cell_type": "code",
      "metadata": {
        "id": "-2ocvS6_NCDQ"
      },
      "source": [
        "def random_brightness(img):\n",
        "    shifted = img + 1.0   # shift to (0,2) range\n",
        "    img_max_value = max(shifted.flatten())\n",
        "    max_coef = 2.0/img_max_value\n",
        "    min_coef = max_coef - 0.1\n",
        "    coef = np.random.uniform(min_coef, max_coef)\n",
        "    dst = shifted * coef - 1.0\n",
        "    return dst"
      ],
      "execution_count": null,
      "outputs": []
    },
    {
      "cell_type": "code",
      "metadata": {
        "id": "AaPc2Uki8Hbu"
      },
      "source": [
        "print(X_train[0].shape)\n",
        "image = random_brightness(X_train[0])\n",
        "image = random_translate(image)\n",
        "image.shape"
      ],
      "execution_count": null,
      "outputs": []
    },
    {
      "cell_type": "code",
      "metadata": {
        "id": "v_1f9sp1NHGI"
      },
      "source": [
        "# Data augmentation \n",
        "# This may take too much time...\n",
        "# i've set 2000 as a minimum number of images for each class\n",
        "# if u don't already have a file containing generated Data, Run ME please\n",
        "# --------------------------!!!!-----------------------------------------\n",
        "\n",
        "# input_indices = []\n",
        "# output_indices = []\n",
        "\n",
        "# for class_n in range(n_classes):\n",
        "#     class_indices = np.where(y_train == class_n)\n",
        "#     n_samples = len(class_indices[0])\n",
        "#     if n_samples < 2000:\n",
        "#         for i in range(2000 - n_samples):\n",
        "#             input_indices.append(class_indices[0][i%n_samples])\n",
        "#             output_indices.append(new_X_train.shape[0])\n",
        "#             new_img = new_X_train[class_indices[0][i % n_samples]]\n",
        "#             new_img = random_translate(random_scaling(random_warp(random_brightness(new_img))))\n",
        "#             new_X_train = np.concatenate((new_X_train, [new_img]), axis=0)\n",
        "#             y_train = np.concatenate((y_train, [class_n]), axis=0)\n",
        "# data_file = \"/content/gdrive/My Drive/traffic-signs-data/new_train.p\"\n",
        "# pickle.dump({\"images\":new_X_train,\"labels\":y_train},open(data_file,\"wb\"),protocol=4)"
      ],
      "execution_count": null,
      "outputs": []
    },
    {
      "cell_type": "code",
      "metadata": {
        "id": "sowmI28jA8tu"
      },
      "source": [
        "# if u do have a file that contains new_train data RUN ME\n",
        "with open(\"/content/gdrive/My Drive/traffic-signs-data/new_train.p\",\"rb\") as f:\n",
        "    data = pickle.load(f)\n",
        "new_X_train,y_train = data[\"images\"],data[\"labels\"]\n"
      ],
      "execution_count": null,
      "outputs": []
    },
    {
      "cell_type": "code",
      "metadata": {
        "id": "yivHxXFNwR3J"
      },
      "source": [
        "# shuffle data  \n",
        "# CODE"
      ],
      "execution_count": null,
      "outputs": []
    },
    {
      "cell_type": "code",
      "metadata": {
        "id": "GPCSouGH9gNX"
      },
      "source": [
        "def plot_figures_no_labels(figures, nrows = 1, ncols=1):\n",
        "    fig, axs = plt.subplots(ncols=ncols, nrows=nrows, figsize=(15, 15))\n",
        "    axs = axs.ravel()\n",
        "    for index, title in zip(range(len(figures)), figures):\n",
        "        axs[index].imshow(figures[title], plt.gray())\n",
        "        axs[index].set_axis_off()\n",
        "        \n",
        "    plt.tight_layout()\n",
        "    plt.show()\n",
        "    \n",
        "for class_n in range(n_classes): # you should range for all classes \n",
        "  figures = {}\n",
        "\n",
        "  class_indices = list (np.where(y_train == class_n)[0])\n",
        "  \n",
        "  for i in range(8):\n",
        "    \n",
        "        figures[i] = new_X_train[class_indices[-i]].squeeze()\n",
        "      \n",
        "  plot_figures_no_labels(figures, 1, 8)\n",
        "\n",
        "      \n"
      ],
      "execution_count": null,
      "outputs": []
    },
    {
      "cell_type": "code",
      "metadata": {
        "id": "4NqZOyDNAbze"
      },
      "source": [
        "plt.figure(figsize=(20,5))\n",
        "item, count = np.unique(y_train, return_counts=True)\n",
        "names = signs\n",
        "y_pos = np.arange(len(names))\n",
        "plt.bar(item, count, alpha=0.6, color = (0.9,0.3,0.4,0.6) )\n",
        "plt.xticks(y_pos, names, fontsize=15, rotation=90)\n",
        "plt.show()"
      ],
      "execution_count": null,
      "outputs": []
    },
    {
      "cell_type": "markdown",
      "metadata": {
        "id": "roK8nd4j7Oe6"
      },
      "source": [
        "### Model Architecture"
      ]
    },
    {
      "cell_type": "code",
      "metadata": {
        "id": "FGbQjtaGDDQE"
      },
      "source": [
        "IMAGE_SIZE = [32, 32]\n",
        "epochs = 100\n",
        "batch_size = 64\n",
        "image_input = Input(shape=(32, 32, 1))\n"
      ],
      "execution_count": null,
      "outputs": []
    },
    {
      "cell_type": "code",
      "metadata": {
        "id": "x4GBRTZ6oJix"
      },
      "source": [
        "# Feel free to use as many code cells as needed."
      ],
      "execution_count": null,
      "outputs": []
    },
    {
      "cell_type": "code",
      "metadata": {
        "id": "l1fYkthB8hMs"
      },
      "source": [
        "X_train.shape,y_train[:34799].shape\n",
        "y_train_hotEnc.shape"
      ],
      "execution_count": null,
      "outputs": []
    },
    {
      "cell_type": "code",
      "metadata": {
        "id": "5L3rAYPrHmZQ"
      },
      "source": [
        "# define your model\n",
        "# Use pretrained model \n",
        "model = Sequential()\n",
        "model.add(Conv2D(32, (3, 3), activation='relu',\n",
        "          padding='same', input_shape=(32, 32, 1)))\n",
        "model.add(MaxPooling2D((2, 2)))\n",
        "model.add(Flatten())\n",
        "model.add(Dense(128, activation='relu'))\n",
        "model.add(Dense(43, activation='sigmoid'))\n",
        "# compile model\n",
        "model.compile(loss='binary_crossentropy', metrics=['accuracy'])\n",
        "\n",
        "history = model.fit(\n",
        "    X_train_gry_norm, y_train_hotEnc, verbose=1, epochs=epochs, batch_size=batch_size, validation_data=(X_valid_gry_norm, y_valid_hotEnc))"
      ],
      "execution_count": null,
      "outputs": []
    },
    {
      "cell_type": "markdown",
      "metadata": {
        "id": "uWq716KU7OfG"
      },
      "source": [
        "### Train, Validate and Test the Model"
      ]
    },
    {
      "cell_type": "code",
      "metadata": {
        "id": "g3MU7WGrCMTG"
      },
      "source": [
        "#Training"
      ],
      "execution_count": null,
      "outputs": []
    },
    {
      "cell_type": "code",
      "metadata": {
        "id": "gdwp53yHE1Uc"
      },
      "source": [
        "plt.style.use('seaborn-darkgrid')\n",
        "palette = plt.get_cmap('Set1')\n",
        "train_acc = history.history['accuracy']\n",
        "val_acc = history.history['val_accuracy']\n",
        "\n",
        "plt.plot(val_acc, label='Validation accuracy', color = palette(2))\n",
        "plt.plot(train_acc, label='Train accuracy', color = palette(1))\n",
        "plt.title(\"Training Performance\")\n",
        "plt.xlabel(\"Epoch\")\n",
        "plt.legend()\n",
        "plt.show()"
      ],
      "execution_count": null,
      "outputs": []
    },
    {
      "cell_type": "code",
      "metadata": {
        "id": "Q2EyX0GgwBMc"
      },
      "source": [
        "# Test\n",
        "# Can you do better than me?        "
      ],
      "execution_count": null,
      "outputs": []
    },
    {
      "cell_type": "code",
      "metadata": {
        "id": "XLRyPx0h85No"
      },
      "source": [
        "score = model.evaluate(X_test_gry_norm, y_test_hotEnc, verbose=0)\n",
        "print('Test accuracy:', score[1])"
      ],
      "execution_count": null,
      "outputs": []
    },
    {
      "cell_type": "code",
      "metadata": {
        "id": "RrtMBKXI9PGE"
      },
      "source": [
        "predicted_classes = model.predict(X_test_gry_norm)\n",
        "predicted_classes = np.array(predicted_classes)\n",
        "for m in range(len(predicted_classes)) : \n",
        "    for i in range(43):\n",
        "        if predicted_classes[m][i] > 0.5 :\n",
        "            predicted_classes[m][i] = 1\n",
        "        else :\n",
        "            predicted_classes[m][i] = 0\n"
      ],
      "execution_count": null,
      "outputs": []
    },
    {
      "cell_type": "code",
      "metadata": {
        "id": "MXKdjxhq9Qb6"
      },
      "source": [
        "predicted_classes_ = [np.where(r == float(1))[0][0] if(r.sum() > 0) else 0\n",
        "                      for r in np.array(predicted_classes)]"
      ],
      "execution_count": null,
      "outputs": []
    },
    {
      "cell_type": "code",
      "metadata": {
        "id": "6sa8XffrzbyS"
      },
      "source": [
        "from sklearn.metrics import confusion_matrix\n",
        "import seaborn as sns\n",
        "\n",
        "predicted_classes  =  np.array(predicted_classes_)\n",
        "y_true = y_test\n",
        "cm = confusion_matrix(y_true, predicted_classes)\n",
        "plt.figure(figsize = (25, 25))\n",
        "sns.heatmap(cm, annot = True)"
      ],
      "execution_count": null,
      "outputs": []
    },
    {
      "cell_type": "code",
      "metadata": {
        "id": "u3QUUX0eg-2d"
      },
      "source": [
        "# PLOT IMAGES WITH PREDICTED SIGNS"
      ],
      "execution_count": null,
      "outputs": []
    },
    {
      "cell_type": "code",
      "metadata": {
        "id": "RcZgDe1S9cqM"
      },
      "source": [
        "### Data exploration visualization code goes here.\n",
        "import matplotlib.pyplot as plt\n",
        "import random\n",
        "# Visualizations will be shown in the notebook.\n",
        "%matplotlib inline\n",
        "\n",
        "\n",
        "def show_images(X, Y, r, c):\n",
        "  fig, axs = plt.subplots(r, c, figsize=(15, 6))\n",
        "  fig.subplots_adjust(hspace=.2, wspace=.001)\n",
        "  axs = axs.ravel()\n",
        "  for i in range(rows*columns):  # if rows = 2 and columns = 5 i should take 10 values\n",
        "      index = random.randint(0, len(X))\n",
        "      image = X[index]\n",
        "      axs[i].axis('off')\n",
        "      axs[i].imshow(image)\n",
        "      axs[i].set_title(signs[Y[index]])\n",
        "  plt.show()\n",
        "\n",
        "\n",
        "# show image of 10 random data points\n",
        "rows = 2\n",
        "columns = 5\n",
        "show_images(X_test_gry, predicted_classes, rows, columns)"
      ],
      "execution_count": null,
      "outputs": []
    },
    {
      "cell_type": "markdown",
      "metadata": {
        "id": "e6HCFxld7OfI"
      },
      "source": [
        "A validation set can be used to assess how well the model is performing. A low accuracy on the training and validation\n",
        "sets imply underfitting. A high accuracy on the training set but low accuracy on the validation set implies overfitting."
      ]
    },
    {
      "cell_type": "markdown",
      "metadata": {
        "id": "Av9Mzg4i0Ksp"
      },
      "source": [
        "- In this case study, we want to classify images of traffic signs using deep Convolutional Neural Networks (CNNs).\n",
        "- The dataset consists of 43 different classes of images. \n",
        "- Classes are as listed below: \n",
        "  - 0 = Speed limit (20km/h) \n",
        "  - 1 = Speed limit (30km/h)\n",
        "  - 2 = Speed limit (50km/h) \n",
        "  - 3 = Speed limit (60km/h)\n",
        "  - 4 = Speed limit (70km/h) \n",
        "  - 5 = Speed limit (80km/h)\n",
        "  - 6 = End of speed limit (80km/h)\n",
        "  - 7 = Speed limit (100km/h)\n",
        "  - 8 = Speed limit (120km/h)\n",
        "  - 9 = No passing\n",
        "  - 10 = No passing for vehicles over 3.5 metric tons\n",
        "  - 11 = Right-of-way at the next intersection\n",
        "  - 12 = Priority road\n",
        "  - 13 = Yield\n",
        "  - 14 = Stop\n",
        "  - 15 = No vehicles\n",
        "  - 16 = Vehicles over 3.5 metric tons prohibited\n",
        "  - 17 = No entry\n",
        "  - 18 = General caution\n",
        "  - 19 = Dangerous curve to the left\n",
        "  - 20 = Dangerous curve to the right\n",
        "  - 21 = Double curve\n",
        "  - 22 = Bumpy road\n",
        "  - 23 = Slippery road\n",
        "  - 24 = Road narrows on the right\n",
        "  - 25 = Road work\n",
        "  - 26 = Traffic signals\n",
        "  - 27 = Pedestrians\n",
        "  - 28 = Children crossing \n",
        "  - 29 = Bicycles crossing\n",
        "  - 30 = Beware of ice/snow\n",
        "  - 31 = Wild animals crossing\n",
        "  - 32 = End of all speed and passing limits\n",
        "  - 33 = Turn right ahead\n",
        "  - 34 = Turn left ahead\n",
        "  - 35 = Ahead only\n",
        "  - 36 = Go straight or right\n",
        "  - 37 = Go straight or left\n",
        "  - 38 = Keep right\n",
        "  - 39 = Keep left\n",
        "  - 40 = Roundabout mandatory\n",
        "  - 41 = End of no passing\n",
        "  - 42 = End of no passing by vehicles over 3.5 metric tons\n",
        "\n",
        "- Citation\n",
        "J. Stallkamp, M. Schlipsing, J. Salmen, and C. Igel. The German Traffic Sign Recognition Benchmark: A multi-class classification competition. In Proceedings of the IEEE International Joint Conference on Neural Networks, pages 1453–1460. 2011. \n",
        "@inproceedings{Stallkamp-IJCNN-2011, author = {Johannes Stallkamp and Marc Schlipsing and Jan Salmen and Christian Igel}, booktitle = {IEEE International Joint Conference on Neural Networks}, title = {The {G}erman {T}raffic {S}ign {R}ecognition {B}enchmark: A multi-class classification competition}, year = {2011}, pages = {1453--1460} }"
      ]
    },
    {
      "cell_type": "code",
      "metadata": {
        "id": "7yEPRRy60Lys"
      },
      "source": [
        ""
      ],
      "execution_count": null,
      "outputs": []
    }
  ]
}
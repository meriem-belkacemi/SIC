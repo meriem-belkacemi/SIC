{
 "cells": [
  {
   "cell_type": "code",
   "execution_count": 1,
   "id": "739ec279",
   "metadata": {},
   "outputs": [
    {
     "name": "stdout",
     "output_type": "stream",
     "text": [
      "[2002, 2009, 2016, 2023, 2037, 2044, 2051, 2058, 2072, 2079, 2086, 2093, 2107, 2114, 2121, 2128, 2142, 2149, 2156, 2163, 2177, 2184, 2191, 2198, 2212, 2219, 2226, 2233, 2247, 2254, 2261, 2268, 2282, 2289, 2296, 2303, 2317, 2324, 2331, 2338, 2352, 2359, 2366, 2373, 2387, 2394, 2401, 2408, 2422, 2429, 2436, 2443, 2457, 2464, 2471, 2478, 2492, 2499, 2506, 2513, 2527, 2534, 2541, 2548, 2562, 2569, 2576, 2583, 2597, 2604, 2611, 2618, 2632, 2639, 2646, 2653, 2667, 2674, 2681, 2688, 2702, 2709, 2716, 2723, 2737, 2744, 2751, 2758, 2772, 2779, 2786, 2793, 2807, 2814, 2821, 2828, 2842, 2849, 2856, 2863, 2877, 2884, 2891, 2898, 2912, 2919, 2926, 2933, 2947, 2954, 2961, 2968, 2982, 2989, 2996, 3003, 3017, 3024, 3031, 3038, 3052, 3059, 3066, 3073, 3087, 3094, 3101, 3108, 3122, 3129, 3136, 3143, 3157, 3164, 3171, 3178, 3192, 3199]\n"
     ]
    }
   ],
   "source": [
    "mylist = []\n",
    "x=range (2000,3201,1)\n",
    "for n in x :\n",
    "    if ((n % 5 != 0 ) and (n % 7 ==0)) :\n",
    "        mylist.append(n)\n",
    "print (mylist)"
   ]
  },
  {
   "cell_type": "code",
   "execution_count": 2,
   "id": "7ff92b78",
   "metadata": {},
   "outputs": [
    {
     "name": "stdout",
     "output_type": "stream",
     "text": [
      "Enter your value : 5\n",
      "The factorial of 5 is 120\n"
     ]
    }
   ],
   "source": [
    "num = int(input(\"Enter your value : \"))    \n",
    "factorial = 1    \n",
    "if num < 0:    \n",
    "   print(\" Factorial does not exist for negative numbers\")    \n",
    "elif num == 0:    \n",
    "   print(\"The factorial of 0 is 1\")    \n",
    "else:    \n",
    "   for i in range(1,num + 1):    \n",
    "       factorial = factorial*i    \n",
    "   print(\"The factorial of\",num,\"is\",factorial)\n"
   ]
  },
  {
   "cell_type": "code",
   "execution_count": 4,
   "id": "d0c4a224",
   "metadata": {},
   "outputs": [
    {
     "name": "stdout",
     "output_type": "stream",
     "text": [
      "Enter your value : 6\n",
      "{1: 1, 2: 4, 3: 9, 4: 16, 5: 25, 6: 36}\n"
     ]
    }
   ],
   "source": [
    "dict ={}\n",
    "num = int(input(\"Enter your value : \"))    \n",
    "x=range(1,num+1,1)\n",
    "for i in x :\n",
    "    dict[i]=i*i\n",
    "print (dict)\n"
   ]
  },
  {
   "cell_type": "code",
   "execution_count": 6,
   "id": "1ace1bd2",
   "metadata": {},
   "outputs": [
    {
     "name": "stdout",
     "output_type": "stream",
     "text": [
      "NumPy Array:\n",
      "[[0 1]\n",
      " [2 3]\n",
      " [4 5]]\n",
      "List: [[0, 1], [2, 3], [4, 5]]\n"
     ]
    }
   ],
   "source": [
    "import numpy as np\n",
    "\n",
    "arr = np.array([[0 ,1] ,[2, 3] , [4 ,5]])\n",
    "print(f'NumPy Array:\\n{arr}')\n",
    "\n",
    "list1 = arr.tolist()\n",
    "print(f'List: {list1}')"
   ]
  },
  {
   "cell_type": "code",
   "execution_count": 7,
   "id": "59a610b0",
   "metadata": {},
   "outputs": [
    {
     "name": "stdout",
     "output_type": "stream",
     "text": [
      "\n",
      "Array1:\n",
      "[0 1 2]\n",
      "\n",
      "Array2:\n",
      "[2 1 0]\n",
      "\n",
      "Their covariance matrix is the following :\n",
      " [[ 1. -1.]\n",
      " [-1.  1.]]\n"
     ]
    }
   ],
   "source": [
    "x = np.array([0, 1, 2])\n",
    "y = np.array([2, 1, 0])\n",
    "print(\"\\nArray1:\")\n",
    "print(x)\n",
    "print(\"\\nArray2:\")\n",
    "print(y)\n",
    "print(\"\\nTheir covariance matrix is the following :\\n\",np.cov(x, y))"
   ]
  },
  {
   "cell_type": "code",
   "execution_count": 1,
   "id": "1544e0fc",
   "metadata": {},
   "outputs": [
    {
     "name": "stdout",
     "output_type": "stream",
     "text": [
      "Enter your string  : Meriem\n",
      "Enter your index : 0\n",
      "eriem\n"
     ]
    }
   ],
   "source": [
    "def remove_char(str, n):\n",
    "      part1 = str[:n] \n",
    "      part2 = str[n+1:]\n",
    "      return part1 + part2\n",
    "char2 = input(\"Enter your string  : \")  \n",
    "num2 = int(input(\"Enter your index : \")) \n",
    "print(remove_char(char2,num2))"
   ]
  },
  {
   "cell_type": "code",
   "execution_count": 18,
   "id": "90d5dcd9",
   "metadata": {},
   "outputs": [
    {
     "name": "stdout",
     "output_type": "stream",
     "text": [
      "Enter the values of D: 100,150,180\n",
      "[18, 22, 24]\n"
     ]
    }
   ],
   "source": [
    "import math\n",
    "\n",
    "numbers = input(\"Enter the values of D: \")\n",
    "numbers = numbers.split(',')\n",
    "new_list = []\n",
    "for D in numbers:\n",
    "    Q = round(math.sqrt(2 * 50 * int(D) / 30))\n",
    "    new_list.append(Q)\n",
    "\n",
    "print(new_list)"
   ]
  },
  {
   "cell_type": "code",
   "execution_count": null,
   "id": "4cf0715a",
   "metadata": {},
   "outputs": [],
   "source": []
  },
  {
   "cell_type": "code",
   "execution_count": null,
   "id": "9e5df9e4",
   "metadata": {},
   "outputs": [],
   "source": []
  }
 ],
 "metadata": {
  "kernelspec": {
   "display_name": "Python 3",
   "language": "python",
   "name": "python3"
  },
  "language_info": {
   "codemirror_mode": {
    "name": "ipython",
    "version": 3
   },
   "file_extension": ".py",
   "mimetype": "text/x-python",
   "name": "python",
   "nbconvert_exporter": "python",
   "pygments_lexer": "ipython3",
   "version": "3.8.8"
  }
 },
 "nbformat": 4,
 "nbformat_minor": 5
}
